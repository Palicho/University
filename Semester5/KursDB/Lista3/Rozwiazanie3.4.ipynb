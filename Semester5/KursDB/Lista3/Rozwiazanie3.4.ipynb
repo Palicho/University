{
    "metadata": {
        "kernelspec": {
            "name": "SQL",
            "display_name": "SQL",
            "language": "sql"
        },
        "language_info": {
            "name": "sql",
            "version": ""
        }
    },
    "nbformat_minor": 2,
    "nbformat": 4,
    "cells": [
        {
            "cell_type": "markdown",
            "source": [
                "<span style=\"left: 13.82%; top: 40.91%; font-size: calc(var(--scale-factor)*9.96px); font-family: sans-serif;\" role=\"presentation\" dir=\"ltr\">4</span><span style=\"left: 14.79%; top: 40.91%; font-size: calc(var(--scale-factor)*9.96px); font-family: sans-serif; transform: scaleX(0.963477);\" role=\"presentation\" dir=\"ltr\">. Create tables</span> <span style=\"left: 25.96%; top: 40.91%; font-size: calc(var(--scale-factor)*9.96px); font-family: sans-serif; transform: scaleX(0.967193);\" role=\"presentation\" dir=\"ltr\">Employees(ID, SalaryGros)</span> <span style=\"left: 46.26%; top: 40.91%; font-size: calc(var(--scale-factor)*9.96px); font-family: sans-serif; transform: scaleX(0.898298);\" role=\"presentation\" dir=\"ltr\">and</span> <span style=\"left: 49.32%; top: 40.91%; font-size: calc(var(--scale-factor)*9.96px); font-family: sans-serif; transform: scaleX(0.976415);\" role=\"presentation\" dir=\"ltr\">SalaryHistory(ID, EmployeeID, Year, Month, SalaryNet,</span>  \n",
                "<span style=\"left: 16.09%; top: 42.33%; font-size: calc(var(--scale-factor)*9.96px); font-family: sans-serif; transform: scaleX(0.975105);\" role=\"presentation\" dir=\"ltr\">SalaryGros)</span><span style=\"left: 24.83%; top: 42.33%; font-size: calc(var(--scale-factor)*9.96px); font-family: sans-serif;\" role=\"presentation\" dir=\"ltr\">.</span> <span style=\"left: 26.35%; top: 42.33%; font-size: calc(var(--scale-factor)*9.96px); font-family: sans-serif; transform: scaleX(0.950617);\" role=\"presentation\" dir=\"ltr\">Implement a procedure that for a month number (given as a parameter) computes</span>  \n",
                "<span style=\"left: 16.09%; top: 43.75%; font-size: calc(var(--scale-factor)*9.96px); font-family: sans-serif; transform: scaleX(0.946562);\" role=\"presentation\" dir=\"ltr\">the salary to be paid out, based on:</span>\n",
                "\n",
                "- <span style=\"left: 19.77%; top: 46.12%; font-size: calc(var(--scale-factor)*9.96px); font-family: sans-serif; transform: scaleX(0.962355);\" role=\"presentation\" dir=\"ltr\">the current salary (</span><span style=\"left: 34.02%; top: 46.12%; font-size: calc(var(--scale-factor)*9.96px); font-family: sans-serif; transform: scaleX(0.929871);\" role=\"presentation\" dir=\"ltr\">Employees.SalaryGros</span><span style=\"left: 50.32%; top: 46.12%; font-size: calc(var(--scale-factor)*9.96px); font-family: sans-serif; transform: scaleX(1.17542);\" role=\"presentation\" dir=\"ltr\">),</span>\n",
                "- <span style=\"left: 19.77%; top: 48.01%; font-size: calc(var(--scale-factor)*9.96px); font-family: sans-serif; transform: scaleX(0.938008);\" role=\"presentation\" dir=\"ltr\">all previous salaries this year to determine tax deductions,</span>\n",
                "- <span style=\"left: 19.77%; top: 49.9%; font-size: calc(var(--scale-factor)*9.96px); font-family: sans-serif; transform: scaleX(0.951552);\" role=\"presentation\" dir=\"ltr\">the following tax thresholds need to be considerd:</span> <span style=\"left: 58.25%; top: 49.9%; font-size: calc(var(--scale-factor)*9.96px); font-family: sans-serif; transform: scaleX(0.937539);\" role=\"presentation\" dir=\"ltr\">17% for persons whose income does not&nbsp;</span>  exceed 120000 PLN/year and 15300 + 32% applied to the income above 120000 for other persons (i.e., whose income is above the threshold).\n",
                "\n",
                "<span style=\"left: 16.09%; top: 55.11%; font-size: calc(var(--scale-factor)*9.96px); font-family: sans-serif; transform: scaleX(0.937878);\" role=\"presentation\" dir=\"ltr\">Please take into account that an employee may be employed in any month during the year.<br>Create&nbsp;</span> <span style=\"left: 16.09%; top: 56.53%; font-size: calc(var(--scale-factor)*9.96px); font-family: sans-serif; transform: scaleX(0.93679);\" role=\"presentation\" dir=\"ltr\">also a table for logging the situations in which the salary could not be determined, e.g. because of</span>  \n",
                "<span style=\"left: 16.09%; top: 57.95%; font-size: calc(var(--scale-factor)*9.96px); font-family: sans-serif; transform: scaleX(0.939385);\" role=\"presentation\" dir=\"ltr\">a missing salary in one of the previous months (note that this doesn’t contradict with the situation</span>  \n",
                "<span style=\"left: 16.09%; top: 59.37%; font-size: calc(var(--scale-factor)*9.96px); font-family: sans-serif; transform: scaleX(0.944755);\" role=\"presentation\" dir=\"ltr\">where employment starts not from January).</span>  \n",
                "<span style=\"left: 16.09%; top: 61.26%; font-size: calc(var(--scale-factor)*9.96px); font-family: sans-serif; transform: scaleX(0.930781);\" role=\"presentation\" dir=\"ltr\">This task should be implemented using cursors.</span>  \n",
                "<span style=\"left: 16.09%; top: 63.16%; font-size: calc(var(--scale-factor)*9.96px); font-family: sans-serif; transform: scaleX(0.936817);\" role=\"presentation\" dir=\"ltr\">Remark: possibly consider a slight modification to the schema of SalaryHistory table.</span>  \n",
                "<span style=\"left: 16.09%; top: 64.58%; font-size: calc(var(--scale-factor)*9.96px); font-family: sans-serif; transform: scaleX(1.00445);\" role=\"presentation\" dir=\"ltr\">[3p]</span>"
            ],
            "metadata": {
                "azdata_cell_guid": "70e1da1c-1a40-478f-bcff-9e92787237a2"
            },
            "attachments": {}
        },
        {
            "cell_type": "code",
            "source": [
                "DROP TABLE IF EXISTS Employees;\n",
                "DROP TABLE IF EXISTS SalaryHistory;\n",
                "\n",
                "CREATE TABLE Employees(\n",
                "    ID INT IDENTITY PRIMARY KEY,\n",
                "    SalaryGros FLOAT\n",
                ");\n",
                "\n",
                "CREATE TABLE SalaryHistory(\n",
                "    ID INT NOT NULL IDENTITY PRIMARY KEY,\n",
                "    [Year] INT NOT NULL,\n",
                "    [Month] INT NOT NULL,\n",
                "    SalaryNet FLOAT ,\n",
                "    SalaryGros FLOAT NOT NULL\n",
                ");\n",
                "\n",
                ""
            ],
            "metadata": {
                "azdata_cell_guid": "9d5ce13b-526c-4125-ad9d-79e5aa8a6bdb",
                "language": "sql",
                "tags": []
            },
            "outputs": [
                {
                    "output_type": "display_data",
                    "data": {
                        "text/html": "Commands completed successfully."
                    },
                    "metadata": {}
                },
                {
                    "output_type": "display_data",
                    "data": {
                        "text/html": "Total execution time: 00:00:00.231"
                    },
                    "metadata": {}
                }
            ],
            "execution_count": 2
        },
        {
            "cell_type": "code",
            "source": [
                "INSERT INTO Employees(SalaryGros)\n",
                "    VALUES\n",
                "        (100000.00),\n",
                "        (150000.00),\n",
                "        (231000.00),\n",
                "        (53000.00);\n",
                "\n",
                "INSERT INTO SalaryHistory([Year],[Month],SalaryGros)\n",
                "    VALUES\n",
                "        (1999,02,)\n",
                "          \n",
                ""
            ],
            "metadata": {
                "azdata_cell_guid": "b8d36651-c7b7-4b90-8fe2-52ea7f6c0a68",
                "language": "sql"
            },
            "outputs": [],
            "execution_count": null
        }
    ]
}