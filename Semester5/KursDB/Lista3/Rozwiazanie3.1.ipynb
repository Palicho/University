{
    "metadata": {
        "kernelspec": {
            "name": "SQL",
            "display_name": "SQL",
            "language": "sql"
        },
        "language_info": {
            "name": "sql",
            "version": ""
        }
    },
    "nbformat_minor": 2,
    "nbformat": 4,
    "cells": [
        {
            "cell_type": "markdown",
            "source": [
                "<span style=\"left: 13.82%; top: 16.3%; font-size: calc(var(--scale-factor)*9.96px); font-family: sans-serif;\" role=\"presentation\" dir=\"ltr\">1</span><span style=\"left: 14.79%; top: 16.3%; font-size: calc(var(--scale-factor)*9.96px); font-family: sans-serif; transform: scaleX(0.953608);\" role=\"presentation\" dir=\"ltr\">. There is data in a table (pick some table from AdventureWorksLT with significant amount of data)</span>  \n",
                "<span style=\"left: 16.09%; top: 17.72%; font-size: calc(var(--scale-factor)*9.96px); font-family: sans-serif; transform: scaleX(0.972127);\" role=\"presentation\" dir=\"ltr\">and this data should be copied to another table with the name</span> <span style=\"left: 64.41%; top: 17.72%; font-size: calc(var(--scale-factor)*9.96px); font-family: monospace;\" role=\"presentation\" dir=\"ltr\">{</span><span style=\"left: 65.25%; top: 17.72%; font-size: calc(var(--scale-factor)*9.96px); font-family: sans-serif; transform: scaleX(0.868018);\" role=\"presentation\" dir=\"ltr\">tablename</span><span style=\"left: 72.69%; top: 17.72%; font-size: calc(var(--scale-factor)*9.96px); font-family: monospace;\" role=\"presentation\" dir=\"ltr\">}</span> <span style=\"left: 74.13%; top: 17.72%; font-size: calc(var(--scale-factor)*9.96px); font-family: sans-serif; transform: scaleX(0.951091);\" role=\"presentation\" dir=\"ltr\">Backup.</span> <span style=\"left: 81.21%; top: 17.72%; font-size: calc(var(--scale-factor)*9.96px); font-family: sans-serif; transform: scaleX(0.947407);\" role=\"presentation\" dir=\"ltr\">Show the</span>  \n",
                "<span style=\"left: 16.09%; top: 19.14%; font-size: calc(var(--scale-factor)*9.96px); font-family: sans-serif; transform: scaleX(0.958849);\" role=\"presentation\" dir=\"ltr\">difference in time execution between standard SQL query and cursors by creating 2 appropriate</span>  \n",
                "<span style=\"left: 16.09%; top: 20.56%; font-size: calc(var(--scale-factor)*9.96px); font-family: sans-serif; transform: scaleX(0.922939);\" role=\"presentation\" dir=\"ltr\">examples and running appropriate tests.</span>  \n",
                "<span style=\"left: 16.09%; top: 21.98%; font-size: calc(var(--scale-factor)*9.96px); font-family: sans-serif; transform: scaleX(1.00445);\" role=\"presentation\" dir=\"ltr\">[2p]</span>"
            ],
            "metadata": {
                "azdata_cell_guid": "9aab676b-189d-4596-a778-9eeda321103d"
            },
            "attachments": {}
        },
        {
            "cell_type": "code",
            "source": [
                "    SET NOCOUNT ON;"
            ],
            "metadata": {
                "azdata_cell_guid": "a34d02e0-ee6b-4570-a2ba-4c0b325330dc",
                "language": "sql",
                "tags": []
            },
            "outputs": [],
            "execution_count": null
        },
        {
            "cell_type": "code",
            "source": [
                "-- PROCEDURA KOPIUJĄCA ZA POMOCA CURSOR\n",
                "CREATE OR ALTER PROCEDURE CURSOR_BACK_UP\n",
                "AS\n",
                "\tBEGIN;\n",
                "        -- TWORZENIE TABLICY Z BACKUP'EM\n",
                "\t\tDROP TABLE IF EXISTS _Backup;\n",
                "\t\tCREATE TABLE _Backup(\n",
                "            Name VARCHAR(MAX),\n",
                "\t\t\tProductNumber VARCHAR(MAX)\n",
                "\t\t);\n",
                "\n",
                "\n",
                "\t\tDECLARE \n",
                "\t\t\t@p_name VARCHAR(MAX),\n",
                "\t\t\t@p_number VARCHAR(MAX);\n",
                "\n",
                "\t\tDECLARE back_up CURSOR \n",
                "\t\tFOR\n",
                "\t\t\tSELECT \n",
                "\t\t\t\tP.Name, \n",
                "\t\t\t\tP.ProductNumber\n",
                "\t\t\tFROM [SalesLT].[Product] as P;\n",
                "\n",
                "\t\tOPEN back_up;\n",
                "\n",
                "\t\tFETCH NEXT FROM back_up INTO\n",
                "\t\t\t@p_name,\n",
                "\t\t\t@p_number;\n",
                "\n",
                "\n",
                "\t\tWHILE @@FETCH_STATUS = 0\n",
                "\t\t\tBEGIN;\n",
                "\t\t\t\tINSERT INTO _Backup(Name, ProductNumber)\n",
                "\t\t\t\t\tVALUES(\n",
                "\t\t\t\t\t\t@p_name,\n",
                "\t\t\t\t\t\t@p_number);\n",
                "\t\t\t\t\t\t\n",
                "\t\t\t\tFETCH NEXT FROM back_up INTO\n",
                "\t\t\t\t\t@p_name,\n",
                "\t\t\t\t\t@p_number;\n",
                "\t\t\tEND;\n",
                "\n",
                "\t\tCLOSE back_up;\n",
                "\n",
                "\t\tDEALLOCATE back_up;\n",
                "\t\n",
                "\n",
                "\tEND;"
            ],
            "metadata": {
                "azdata_cell_guid": "84bceab1-653e-4ee0-8080-d8a9f73ae7da",
                "language": "sql",
                "tags": []
            },
            "outputs": [
                {
                    "output_type": "display_data",
                    "data": {
                        "text/html": "Commands completed successfully."
                    },
                    "metadata": {}
                },
                {
                    "output_type": "display_data",
                    "data": {
                        "text/html": "Total execution time: 00:00:00.123"
                    },
                    "metadata": {}
                }
            ],
            "execution_count": 32
        },
        {
            "cell_type": "code",
            "source": [
                "-- PROCEDURA WYKRZYSTUJĄCA INSERT DO TWORZENIA NOWEJ TABLICY \n",
                "CREATE OR ALTER PROCEDURE  INSERT_BACK_UP\n",
                "AS\n",
                "\tBEGIN;\n",
                "\t-- TWORZENIE TABLICY Z BACKUP'EM\n",
                "\n",
                "\tDROP TABLE IF EXISTS _Backup;\n",
                "\tCREATE TABLE _Backup(\n",
                "\t\tName VARCHAR(MAX),\n",
                "\t\tProductNumber VARCHAR(MAX)\n",
                "\t);\n",
                "\n",
                "\n",
                "\tINSERT INTO [dbo].[_Backup](name, ProductNumber)\n",
                "\t\tSELECT \n",
                "\t\t\tName, \n",
                "\t\t\tProductNumber\n",
                "\t\tFROM \n",
                "\t\t\t[SalesLT].[Product];\n",
                "\n",
                "\tEND;"
            ],
            "metadata": {
                "azdata_cell_guid": "ff0b7fa9-f2f5-4596-a644-f6189f43a6a8",
                "language": "sql",
                "tags": []
            },
            "outputs": [
                {
                    "output_type": "display_data",
                    "data": {
                        "text/html": "Commands completed successfully."
                    },
                    "metadata": {}
                },
                {
                    "output_type": "display_data",
                    "data": {
                        "text/html": "Total execution time: 00:00:00.132"
                    },
                    "metadata": {}
                }
            ],
            "execution_count": 33
        },
        {
            "cell_type": "markdown",
            "source": [
                "Porównanie czasu działania tworzenia tablic za pomocą kursorów oraz insert"
            ],
            "metadata": {
                "azdata_cell_guid": "e0721eb4-09a0-4724-b6f3-19016e71a5ff"
            },
            "attachments": {}
        },
        {
            "cell_type": "code",
            "source": [
                "EXECUTE EXECUTE_TIME;"
            ],
            "metadata": {
                "azdata_cell_guid": "be466fa2-4390-4857-badf-614bd67cb315",
                "language": "sql",
                "tags": []
            },
            "outputs": [
                {
                    "output_type": "display_data",
                    "data": {
                        "text/html": "Commands completed successfully."
                    },
                    "metadata": {}
                },
                {
                    "output_type": "display_data",
                    "data": {
                        "text/html": "Total execution time: 00:00:02.510"
                    },
                    "metadata": {}
                },
                {
                    "output_type": "execute_result",
                    "execution_count": 37,
                    "data": {
                        "application/vnd.dataresource+json": {
                            "schema": {
                                "fields": [
                                    {
                                        "name": "cursor_time"
                                    },
                                    {
                                        "name": "insert_time"
                                    }
                                ]
                            },
                            "data": [
                                {
                                    "0": "2360",
                                    "1": "26"
                                }
                            ]
                        },
                        "text/html": "<table><tr><th>cursor_time</th><th>insert_time</th></tr><tr><td>2360</td><td>26</td></tr></table>"
                    },
                    "metadata": {}
                }
            ],
            "execution_count": 37
        }
    ]
}