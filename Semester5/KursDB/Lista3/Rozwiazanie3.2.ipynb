{
    "metadata": {
        "kernelspec": {
            "name": "SQL",
            "display_name": "SQL",
            "language": "sql"
        },
        "language_info": {
            "name": "sql",
            "version": ""
        }
    },
    "nbformat_minor": 2,
    "nbformat": 4,
    "cells": [
        {
            "cell_type": "markdown",
            "source": [
                "<span style=\"left: 13.82%; top: 24.34%; font-size: calc(var(--scale-factor)*9.96px); font-family: sans-serif;\" role=\"presentation\" dir=\"ltr\">2</span><span style=\"left: 14.79%; top: 24.34%; font-size: calc(var(--scale-factor)*9.96px); font-family: sans-serif; transform: scaleX(0.986922);\" role=\"presentation\" dir=\"ltr\">. Explain the difference between 3 main types of cursors:</span> <span style=\"left: 59.83%; top: 24.34%; font-size: calc(var(--scale-factor)*9.96px); font-family: sans-serif; transform: scaleX(0.987913);\" role=\"presentation\" dir=\"ltr\">static, dynamic, keyset.</span> <span style=\"left: 79.13%; top: 24.34%; font-size: calc(var(--scale-factor)*9.96px); font-family: sans-serif; transform: scaleX(0.981974);\" role=\"presentation\" dir=\"ltr\">Execute the</span>  \n",
                "<span style=\"left: 16.09%; top: 25.76%; font-size: calc(var(--scale-factor)*9.96px); font-family: sans-serif; transform: scaleX(0.911325);\" role=\"presentation\" dir=\"ltr\">presented during lecture example</span> <span style=\"left: 40.94%; top: 25.76%; font-size: calc(var(--scale-factor)*9.96px); font-family: sans-serif; transform: scaleX(0.896894);\" role=\"presentation\" dir=\"ltr\">03-rodzaje-kursorow.sql</span> <span style=\"left: 58.54%; top: 25.76%; font-size: calc(var(--scale-factor)*9.96px); font-family: sans-serif; transform: scaleX(0.940519);\" role=\"presentation\" dir=\"ltr\">and explain the results.</span>  \n",
                "<span style=\"left: 16.09%; top: 27.18%; font-size: calc(var(--scale-factor)*9.96px); font-family: sans-serif; transform: scaleX(1.00445);\" role=\"presentation\" dir=\"ltr\">[2p]</span>"
            ],
            "metadata": {
                "azdata_cell_guid": "f2e739aa-f914-4a9b-8364-a5bba3340624"
            },
            "attachments": {}
        },
        {
            "cell_type": "markdown",
            "source": [
                "<span style=\"font-size: 12px;\"><b>Rodzaje kursorów:</b></span>\n",
                "\n",
                "<span style=\"font-size: 12px;\"><b><br></b></span>\n",
                "\n",
                "- <span style=\"font-size: 12px;\"><b>statyczne(STATIC)</b></span>\n",
                "    - <span style=\"font-size: 12px;\"><b>read-only</b></span>\n",
                "    - <span style=\"font-size: 12px;\"><b>rezultat przetrzymywany w tempdb</b></span>\n",
                "    - <span style=\"font-size: 12px;\"><b>kursor działa na niezmienionych danych</b></span>\n",
                "    - **niewrażlwy na (ISU)**\n",
                "- <span style=\"font-size: 12px;\"><b>dynamiczne(DYNAMIC)</b></span>\n",
                "\n",
                "    - <span style=\"font-size: 12px;\"><b>działają w spósób przeciwny do static</b></span>\n",
                "    - <span style=\"font-size: 12px;\"><b><br></b></span>\n",
                "- <span style=\"font-size: 12px;\"><b>kluczowe(KEYSET)</b></span>\n",
                "    - <span style=\"font-size: 12px;\"><b><br></b></span>"
            ],
            "metadata": {
                "azdata_cell_guid": "8e42cc0a-126c-41c9-8b3b-5795d6b83adf"
            },
            "attachments": {}
        }
    ]
}