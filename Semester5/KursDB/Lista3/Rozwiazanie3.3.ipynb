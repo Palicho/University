{
    "metadata": {
        "kernelspec": {
            "name": "SQL",
            "display_name": "SQL",
            "language": "sql"
        },
        "language_info": {
            "name": "sql",
            "version": ""
        }
    },
    "nbformat_minor": 2,
    "nbformat": 4,
    "cells": [
        {
            "cell_type": "markdown",
            "source": [
                "<span style=\"left: 13.82%; top: 29.55%; font-size: calc(var(--scale-factor)*9.96px); font-family: sans-serif;\" role=\"presentation\" dir=\"ltr\">3</span><span style=\"left: 14.79%; top: 29.55%; font-size: calc(var(--scale-factor)*9.96px); font-family: sans-serif; transform: scaleX(0.958348);\" role=\"presentation\" dir=\"ltr\">. Consider the following tables:</span> <span style=\"left: 38.86%; top: 29.55%; font-size: calc(var(--scale-factor)*9.96px); font-family: sans-serif; transform: scaleX(0.960571);\" role=\"presentation\" dir=\"ltr\">Products(ID, ProductName)</span><span style=\"left: 59.45%; top: 29.55%; font-size: calc(var(--scale-factor)*9.96px); font-family: sans-serif;\" role=\"presentation\" dir=\"ltr\">,</span> <span style=\"left: 60.55%; top: 29.55%; font-size: calc(var(--scale-factor)*9.96px); font-family: sans-serif; transform: scaleX(1.01926);\" role=\"presentation\" dir=\"ltr\">Prices(ProductID REF Products(ID),</span>  \n",
                "<span style=\"left: 16.09%; top: 30.97%; font-size: calc(var(--scale-factor)*9.96px); font-family: sans-serif; transform: scaleX(1.03721);\" role=\"presentation\" dir=\"ltr\">Currency REF Rates(Currency), Price)</span><span style=\"left: 45.6%; top: 30.97%; font-size: calc(var(--scale-factor)*9.96px); font-family: sans-serif;\" role=\"presentation\" dir=\"ltr\">,</span> <span style=\"left: 46.81%; top: 30.97%; font-size: calc(var(--scale-factor)*9.96px); font-family: sans-serif; transform: scaleX(1.01727);\" role=\"presentation\" dir=\"ltr\">Rates(Currency, PricePLN)</span><span style=\"left: 67.42%; top: 30.97%; font-size: calc(var(--scale-factor)*9.96px); font-family: sans-serif; transform: scaleX(1.00179);\" role=\"presentation\" dir=\"ltr\">. Note that a product price</span>  \n",
                "<span style=\"left: 16.09%; top: 32.39%; font-size: calc(var(--scale-factor)*9.96px); font-family: sans-serif; transform: scaleX(1.00714);\" role=\"presentation\" dir=\"ltr\">may not be declared in all known currencies, but it always is declared in PLN as a reference.</span>  \n",
                "<span style=\"left: 16.09%; top: 33.81%; font-size: calc(var(--scale-factor)*9.96px); font-family: sans-serif; transform: scaleX(0.962704);\" role=\"presentation\" dir=\"ltr\">Prepare a batch script to update the</span> <span style=\"left: 43.91%; top: 33.81%; font-size: calc(var(--scale-factor)*9.96px); font-family: sans-serif; transform: scaleX(0.959799);\" role=\"presentation\" dir=\"ltr\">Prices</span> <span style=\"left: 49.15%; top: 33.81%; font-size: calc(var(--scale-factor)*9.96px); font-family: sans-serif; transform: scaleX(0.922866);\" role=\"presentation\" dir=\"ltr\">table based on</span> <span style=\"left: 60.47%; top: 33.81%; font-size: calc(var(--scale-factor)*9.96px); font-family: sans-serif; transform: scaleX(0.924839);\" role=\"presentation\" dir=\"ltr\">Rates</span> <span style=\"left: 65.21%; top: 33.81%; font-size: calc(var(--scale-factor)*9.96px); font-family: sans-serif; transform: scaleX(0.982383);\" role=\"presentation\" dir=\"ltr\">table. In case there is a row in</span>  \n",
                "<span style=\"left: 16.09%; top: 35.23%; font-size: calc(var(--scale-factor)*9.96px); font-family: sans-serif; transform: scaleX(0.959799);\" role=\"presentation\" dir=\"ltr\">Prices</span> <span style=\"left: 21.28%; top: 35.23%; font-size: calc(var(--scale-factor)*9.96px); font-family: sans-serif; transform: scaleX(0.932892);\" role=\"presentation\" dir=\"ltr\">which references a currency that no longer exists in</span> <span style=\"left: 59.54%; top: 35.23%; font-size: calc(var(--scale-factor)*9.96px); font-family: sans-serif; transform: scaleX(0.924839);\" role=\"presentation\" dir=\"ltr\">Rates</span><span style=\"left: 63.54%; top: 35.23%; font-size: calc(var(--scale-factor)*9.96px); font-family: sans-serif; transform: scaleX(0.929289);\" role=\"presentation\" dir=\"ltr\">, the row should be removed.</span>  \n",
                "<span style=\"left: 16.09%; top: 37.12%; font-size: calc(var(--scale-factor)*9.96px); font-family: sans-serif; transform: scaleX(0.930781);\" role=\"presentation\" dir=\"ltr\">This task should be implemented using cursors.</span>  \n",
                "<span style=\"left: 16.09%; top: 38.54%; font-size: calc(var(--scale-factor)*9.96px); font-family: sans-serif; transform: scaleX(1.00445);\" role=\"presentation\" dir=\"ltr\">[3p]</span>"
            ],
            "metadata": {
                "azdata_cell_guid": "90af5fc8-6873-42a6-a96d-a7b157b9b909"
            },
            "attachments": {}
        },
        {
            "cell_type": "code",
            "source": [
                "DROP TABLE IF EXISTS Prices;\n",
                "DROP TABLE IF EXISTS Products;\n",
                "DROP TABLE IF EXISTS Rates;\n",
                "\n",
                "CREATE TABLE Products(\n",
                "        ID INT IDENTITY PRIMARY KEY,\n",
                "        ProductName VARCHAR(20)\n",
                "        );\n",
                "\n",
                "CREATE TABLE Rates(\n",
                "\tCurrency VARCHAR(20) PRIMARY KEY,\n",
                "\tPricePLN FLOAT\n",
                "\t);\n",
                "\n",
                "CREATE TABLE Prices(\n",
                "\tProductID INT FOREIGN KEY REFERENCES Products(ID),\n",
                "\tCurrency VARCHAR(20) FOREIGN KEY REFERENCES Rates(Currency),\n",
                "\tPrice FLOAT\n",
                "\t);                              \n",
                "\n",
                ""
            ],
            "metadata": {
                "azdata_cell_guid": "1f576846-23e9-484a-b1ae-90a7db3edc13",
                "language": "sql"
            },
            "outputs": [],
            "execution_count": null
        },
        {
            "cell_type": "code",
            "source": [
                "INSERT INTO Products(ProductName)\n",
                "\tVALUES\n",
                "\t\t('pro1'),\n",
                "        ('pro2'),\n",
                "        ('pro3'),\n",
                "        ('pro4'),\n",
                "        ('pro5');\n",
                "\n",
                "INSERT INTO Rates(Currency, PricePLN)\n",
                "\tVALUES\n",
                "\t\t('GBP',2.231),\n",
                "\t\t('CZK',8.23),\n",
                "\t\t('USD', 3.231),\n",
                "\t\t('PLN',1),\n",
                "\t\t('EUR',4.532);\n",
                "\t\n",
                "INSERT INTO Prices(ProductID, Currency, Price)\n",
                "\tVALUES\n",
                "\t\t(1,'PLN',120),\n",
                "\t\t(2,'PLN',10),\n",
                "\t\t(3,'PLN',560),\n",
                "\t\t(4,'PLN',30),\n",
                "\t\t(5,'PLN',20),\n",
                "\t\t(2,'GBP',20),\n",
                "\t\t(4,'EUR',32),\n",
                "\t\t(1,'USD',3),\n",
                "\t\t(5,'YAN',123);\n",
                ""
            ],
            "metadata": {
                "azdata_cell_guid": "7f5c35cb-47bd-4cda-9e78-39caa1600395",
                "language": "sql"
            },
            "outputs": [],
            "execution_count": null
        },
        {
            "cell_type": "code",
            "source": [
                "DECLARE\n",
                "\t@pricePLN FLOAT,\n",
                "\t@currency VARCHAR(20),\n",
                "\t@price FLOAT,\n",
                "\t@productID INT,\n",
                "\t@exchange FLOAT;\n",
                "\n",
                "DECLARE update_prices CURSOR DYNAMIC\n",
                "FOR\n",
                "\tSELECT \n",
                "\t\tProductID,\n",
                "\t\tCurrency,\n",
                "\t\tPrice\n",
                "\tFROM [dbo].[Prices];\n",
                "\n",
                "OPEN update_prices;\n",
                "\n",
                "BEGIN;\n",
                "\tDROP TABLE IF EXISTS PricesPLN;\n",
                "\tSELECT\n",
                "\t\tProductID,\n",
                "\t\tCurrency,\n",
                "\t\tPrice\n",
                "\tINTO \n",
                "\t\tPricesPLN\n",
                "\tFROM\n",
                "\t\t[dbo].[Prices] \n",
                "\tWHERE\n",
                "\t\tCurrency = 'PLN';\n",
                "\n",
                "\tFETCH NEXT FROM update_prices INTO\n",
                "\t\t@productID,\n",
                "\t\t@currency,\n",
                "\t\t@price;\n",
                "\n",
                "\tWHILE @@FETCH_STATUS = 0\n",
                "\t\tBEGIN;\n",
                "\t\t\tSET @exchange = (SELECT PricePLN FROM [dbo].[Rates] WHERE @currency = Currency)\n",
                "\t\t\tIF @exchange IS NOT NULL\n",
                "\t\t\t\tBEGIN;\n",
                "\t\t\t\t\tSET @pricePLN = (SELECT TOP 1 Price FROM PricesPLN WHERE ProductID = @productID);\n",
                "\t\t\t\t\tUPDATE Prices SET Price = @exchange * @pricePLN WHERE CURRENT OF update_prices;\n",
                "\n",
                "\t\t\t\tEND;\n",
                "\n",
                "\t\tFETCH NEXT FROM update_prices INTO\n",
                "\t\t\t@productID,\n",
                "\t\t\t@currency,\n",
                "\t\t\t@price;\n",
                "\t\tEND;\n",
                "END;\n",
                ""
            ],
            "metadata": {
                "azdata_cell_guid": "ba5d7349-8e9b-4b80-94cb-d8c85c83be0c",
                "language": "sql"
            },
            "outputs": [],
            "execution_count": null
        }
    ]
}